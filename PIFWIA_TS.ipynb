{
  "nbformat": 4,
  "nbformat_minor": 0,
  "metadata": {
    "colab": {
      "name": "PIFWIA_TS.ipynb",
      "provenance": [],
      "collapsed_sections": [],
      "include_colab_link": true
    },
    "kernelspec": {
      "name": "python3",
      "display_name": "Python 3"
    }
  },
  "cells": [
    {
      "cell_type": "markdown",
      "metadata": {
        "id": "view-in-github",
        "colab_type": "text"
      },
      "source": [
        "<a href=\"https://colab.research.google.com/github/alvarofpinheiro/pifwia_ts/blob/main/PIFWIA_TS.ipynb\" target=\"_parent\"><img src=\"https://colab.research.google.com/assets/colab-badge.svg\" alt=\"Open In Colab\"/></a>"
      ]
    },
    {
      "cell_type": "markdown",
      "metadata": {
        "id": "ltonwoHfYxL2"
      },
      "source": [
        "No Tabu Search o algoritmo salva as K ultimas soluções visitadas e as evita, dessa forma reduzindo a chance de ficar preso em platôs\n",
        "\n",
        "```\n",
        "TAMANHO_DA_MEMORIA = 10 # PARAMETRO\n",
        "ITERACOES = 2000 # PARAMETRO\n",
        "memoria = []\n",
        "solucao_inicial = valor_aleatorio_dentro_do_espaco_de_busca()\n",
        "\n",
        "for i in range(0, 2000):\n",
        "  nova_solucao = realizar_mudanca_na_solucao(solucao_inicial)\n",
        "\n",
        "  solucao_ja_testada = true\n",
        "  while solucao_ja_testada:\n",
        "    solucao_ja_testada = verificar_se_solucao_na_memoria()\n",
        "    if solucao_ja_testada:\n",
        "      nova_solucao = realizar_mudanca_na_solucao(solucao_inicial)\n",
        "\n",
        "  if len(memoria) == TAMANHO_DA_MEMORIA:\n",
        "    memoria.pop(0) # remove o primeiro elemento da lista\n",
        "  memoria.append(nova_solucao) #adiciona um elemento no final da lista\n",
        "\n",
        "  if fitness(nova_solucao) >= fitness(solucao_inicial): # AQUI COLOCAMOS O IGUAL SEM PROCUPAÇÃO POIS O ALGORITMO TEM O MECANISMO QUE EVITA PLATÔS\n",
        "    solucao_incial = nova_solucao\n",
        "```"
      ]
    },
    {
      "cell_type": "markdown",
      "metadata": {
        "id": "XWiwljNXZHbu"
      },
      "source": [
        "N Rainhas \n",
        "\n",
        "Dado um tabuleiro NxN Coloque nele N rainhas de maneira que nenhuma rainha possa atacar outra (Ou seja não é Permitido colocar uma rainha na mesma linha, coluna ou diagonal que outra)\n",
        "\n",
        "![n - rainhas.png](data:image/png;base64,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)"
      ]
    },
    {
      "cell_type": "code",
      "metadata": {
        "id": "gq3TLflwsht3"
      },
      "source": [
        "# Importação\n",
        "\n",
        "import random\n",
        "import math\n",
        "import matplotlib.pyplot as plt"
      ],
      "execution_count": 2,
      "outputs": []
    },
    {
      "cell_type": "code",
      "metadata": {
        "id": "7u33R-lMrcY7"
      },
      "source": [
        "# Codigo para o problema das N rainhas\n",
        "\n",
        "NUMERO_DE_RAINHAS = 25\n",
        "\n",
        "# No python quando se faz lista_A = lista_B as listas ficam ligadas e caso se \n",
        "# mude uma tambem se muda a outra, usar o copy é uma maneira de evitar isso\n",
        "import copy\n",
        "\n",
        "class rainha:\n",
        "  def __init__(self, posicao_x):\n",
        "    self.x = posicao_x\n",
        "\n",
        "def gerar_solucao_aleatoria_n_rainhas():\n",
        "  lista_aleatoria = []\n",
        "  for i in range(0, NUMERO_DE_RAINHAS):\n",
        "    lista_aleatoria.append(rainha(random.randint(0, NUMERO_DE_RAINHAS - 1)))\n",
        "  return lista_aleatoria\n",
        "\n",
        "def fitness_n_rainhas(possivel_solucao):\n",
        "  fitness = 0\n",
        "  for i in range(0, NUMERO_DE_RAINHAS-1): \n",
        "    for j in range(i+1, NUMERO_DE_RAINHAS):\n",
        "      if possivel_solucao[i].x == possivel_solucao[j].x:\n",
        "        fitness += 1\n",
        "      if ((possivel_solucao[i].x + j - i) == possivel_solucao[j].x) or ((possivel_solucao[i].x - j + i) == possivel_solucao[j].x):\n",
        "        fitness += 1\n",
        "  return fitness\n",
        "\n",
        "def mudar_solucao_n_rainhas(solucao):\n",
        "  solucao_modificada = copy.deepcopy(solucao)\n",
        "  index = random.randint(0, NUMERO_DE_RAINHAS - 1)\n",
        "  posicao_1 = random.randint(0, NUMERO_DE_RAINHAS - 1)\n",
        "  while posicao_1 == solucao_modificada[index].x:\n",
        "    posicao_1 = random.randint(0, NUMERO_DE_RAINHAS - 1)\n",
        "  solucao_modificada[index].x = posicao_1\n",
        "  \n",
        "  return solucao_modificada"
      ],
      "execution_count": 3,
      "outputs": []
    },
    {
      "cell_type": "code",
      "metadata": {
        "id": "OrCmBmOhU2gL"
      },
      "source": [
        "# --- Algoritimo: Tabu Search ---\n",
        "\n",
        "# Parametros\n",
        "MAX_NUMERO_DE_ITERACOES_TABU = 4000\n",
        "MEMORIA_MAXIMA = 10\n",
        "memoria = []\n",
        "\n",
        "def executar_tabu_search():\n",
        "\n",
        "  # É gerada uma solução inicial aleatoria\n",
        "  solucao_atual = gerar_solucao_aleatoria_n_rainhas()\n",
        "\n",
        "  # É calculado o fitness da solução incial\n",
        "  melhor_fitness = fitness_n_rainhas(solucao_atual)\n",
        "\n",
        "  # É definido um criterio de parada\n",
        "  numero_de_iteracoes = MAX_NUMERO_DE_ITERACOES_TABU\n",
        "\n",
        "  # print('Fitness Inicial: ', melhor_fitness)\n",
        "\n",
        "  # --- Inicio da execução do algoritimo ---\n",
        "\n",
        "  # Criterio de parada\n",
        "  for i in range(0, numero_de_iteracoes):\n",
        "\n",
        "    # Uma nova solução é gerada\n",
        "    nova_solucao = mudar_solucao_n_rainhas(solucao_atual)\n",
        "\n",
        "    solucao_ja_testada = True\n",
        "    while solucao_ja_testada:\n",
        "      for k in memoria:\n",
        "        for z in range(0, NUMERO_DE_RAINHAS):\n",
        "          if k[z].x == nova_solucao[z].x:\n",
        "            solucao_ja_testada = True\n",
        "            break\n",
        "      else:\n",
        "        solucao_ja_testada = False\n",
        "      if solucao_ja_testada:\n",
        "        nova_solucao = realizar_mudanca_na_solucao(solucao_atual)\n",
        " \n",
        "    if len(memoria) == MEMORIA_MAXIMA:\n",
        "      memoria.pop(0)\n",
        "    memoria.append(copy.deepcopy(nova_solucao))\n",
        "\n",
        "    # A nova solução é comparada com a anterior\n",
        "    if fitness_n_rainhas(nova_solucao) <= fitness_n_rainhas(solucao_atual):\n",
        "      # Caso ela seja melhor a anterior é substituida pela nova\n",
        "      solucao_atual.clear()\n",
        "      for j in range(0, NUMERO_DE_RAINHAS):\n",
        "        solucao_atual.append(nova_solucao[j])\n",
        "      # e o melhor fitness é atualizado\n",
        "      melhor_fitness = fitness_n_rainhas(solucao_atual)\n",
        "\n",
        "  return melhor_fitness\n",
        "\n",
        "  # --- Fim da execução do algoritimo ---\n"
      ],
      "execution_count": 6,
      "outputs": []
    },
    {
      "cell_type": "code",
      "metadata": {
        "id": "FJX6ecNJA-7a",
        "colab": {
          "base_uri": "https://localhost:8080/"
        },
        "outputId": "15a442a2-b985-4e63-a630-536f027a0320"
      },
      "source": [
        "# --- Tabu Search ---\n",
        "NUMERO_DE_EXECUCOES = 8\n",
        "best = 100000000\n",
        "media = 0.0\n",
        "for i in range(0, NUMERO_DE_EXECUCOES):\n",
        "  aux = executar_tabu_search()\n",
        "  media += aux\n",
        "  if aux < best:\n",
        "    best = aux\n",
        "\n",
        "print('---------------- N rainhas ---------- Tabu Search -----------------')\n",
        "print('Melhore resultado de todas as execuções: ', best)\n",
        "print('Resultado medio: ', \"%.3f\" % (media/NUMERO_DE_EXECUCOES))\n",
        "print('-------------------------------------------------------------------\\n\\n')"
      ],
      "execution_count": 7,
      "outputs": [
        {
          "output_type": "stream",
          "name": "stdout",
          "text": [
            "---------------- N rainhas ---------- Tabu Search -----------------\n",
            "Melhore resultado de todas as execuções:  0\n",
            "Resultado medio:  0.625\n",
            "-------------------------------------------------------------------\n",
            "\n",
            "\n"
          ]
        }
      ]
    }
  ]
}